{
  "nbformat": 4,
  "nbformat_minor": 0,
  "metadata": {
    "colab": {
      "provenance": []
    },
    "kernelspec": {
      "name": "python3",
      "display_name": "Python 3"
    },
    "language_info": {
      "name": "python"
    }
  },
  "cells": [
    {
      "cell_type": "code",
      "execution_count": null,
      "metadata": {
        "colab": {
          "base_uri": "https://localhost:8080/"
        },
        "id": "RqbwNiElbE7V",
        "outputId": "719e1f0a-6f88-43e3-bf41-64deea817ac7"
      },
      "outputs": [
        {
          "output_type": "stream",
          "name": "stdout",
          "text": [
            "  Preparing metadata (setup.py) ... \u001b[?25l\u001b[?25hdone\n",
            "\u001b[2K   \u001b[90m━━━━━━━━━━━━━━━━━━━━━━━━━━━━━━━━━━━━━━━━\u001b[0m \u001b[32m1.0/1.0 MB\u001b[0m \u001b[31m23.5 MB/s\u001b[0m eta \u001b[36m0:00:00\u001b[0m\n",
            "\u001b[2K   \u001b[90m━━━━━━━━━━━━━━━━━━━━━━━━━━━━━━━━━━━━━━━━\u001b[0m \u001b[32m2.5/2.5 MB\u001b[0m \u001b[31m65.9 MB/s\u001b[0m eta \u001b[36m0:00:00\u001b[0m\n",
            "\u001b[2K   \u001b[90m━━━━━━━━━━━━━━━━━━━━━━━━━━━━━━━━━━━━━━━━\u001b[0m \u001b[32m50.7/50.7 kB\u001b[0m \u001b[31m2.9 MB/s\u001b[0m eta \u001b[36m0:00:00\u001b[0m\n",
            "\u001b[2K   \u001b[90m━━━━━━━━━━━━━━━━━━━━━━━━━━━━━━━━━━━━━━━━\u001b[0m \u001b[32m209.0/209.0 kB\u001b[0m \u001b[31m13.5 MB/s\u001b[0m eta \u001b[36m0:00:00\u001b[0m\n",
            "\u001b[2K   \u001b[90m━━━━━━━━━━━━━━━━━━━━━━━━━━━━━━━━━━━━━━━━\u001b[0m \u001b[32m301.7/301.7 kB\u001b[0m \u001b[31m18.1 MB/s\u001b[0m eta \u001b[36m0:00:00\u001b[0m\n",
            "\u001b[2K   \u001b[90m━━━━━━━━━━━━━━━━━━━━━━━━━━━━━━━━━━━━━━━━\u001b[0m \u001b[32m1.2/1.2 MB\u001b[0m \u001b[31m49.7 MB/s\u001b[0m eta \u001b[36m0:00:00\u001b[0m\n",
            "\u001b[2K   \u001b[90m━━━━━━━━━━━━━━━━━━━━━━━━━━━━━━━━━━━━━━━━\u001b[0m \u001b[32m15.5/15.5 MB\u001b[0m \u001b[31m77.1 MB/s\u001b[0m eta \u001b[36m0:00:00\u001b[0m\n",
            "\u001b[2K   \u001b[90m━━━━━━━━━━━━━━━━━━━━━━━━━━━━━━━━━━━━━━━━\u001b[0m \u001b[32m139.8/139.8 kB\u001b[0m \u001b[31m10.0 MB/s\u001b[0m eta \u001b[36m0:00:00\u001b[0m\n",
            "\u001b[2K   \u001b[90m━━━━━━━━━━━━━━━━━━━━━━━━━━━━━━━━━━━━━━━━\u001b[0m \u001b[32m411.2/411.2 kB\u001b[0m \u001b[31m23.1 MB/s\u001b[0m eta \u001b[36m0:00:00\u001b[0m\n",
            "\u001b[2K   \u001b[90m━━━━━━━━━━━━━━━━━━━━━━━━━━━━━━━━━━━━━━━━\u001b[0m \u001b[32m390.3/390.3 kB\u001b[0m \u001b[31m23.8 MB/s\u001b[0m eta \u001b[36m0:00:00\u001b[0m\n",
            "\u001b[2K   \u001b[90m━━━━━━━━━━━━━━━━━━━━━━━━━━━━━━━━━━━━━━━━\u001b[0m \u001b[32m49.5/49.5 kB\u001b[0m \u001b[31m2.7 MB/s\u001b[0m eta \u001b[36m0:00:00\u001b[0m\n",
            "\u001b[2K   \u001b[90m━━━━━━━━━━━━━━━━━━━━━━━━━━━━━━━━━━━━━━━━\u001b[0m \u001b[32m2.3/2.3 MB\u001b[0m \u001b[31m77.4 MB/s\u001b[0m eta \u001b[36m0:00:00\u001b[0m\n",
            "\u001b[2K   \u001b[90m━━━━━━━━━━━━━━━━━━━━━━━━━━━━━━━━━━━━━━━━\u001b[0m \u001b[32m1.6/1.6 MB\u001b[0m \u001b[31m59.8 MB/s\u001b[0m eta \u001b[36m0:00:00\u001b[0m\n",
            "\u001b[?25h  Building wheel for wikipedia (setup.py) ... \u001b[?25l\u001b[?25hdone\n"
          ]
        }
      ],
      "source": [
        "%pip install --upgrade --quiet langchain langchain-community langchain-openai langchain-experimental neo4j wikipedia tiktoken yfiles_jupyter_graphs"
      ]
    },
    {
      "cell_type": "code",
      "source": [
        "%pip install langchain_groq"
      ],
      "metadata": {
        "colab": {
          "base_uri": "https://localhost:8080/"
        },
        "id": "4NSYyrkAcFlH",
        "outputId": "79967f59-9894-4b6b-90b6-e71dda6359ef"
      },
      "execution_count": null,
      "outputs": [
        {
          "output_type": "stream",
          "name": "stdout",
          "text": [
            "Collecting langchain_groq\n",
            "  Downloading langchain_groq-0.2.1-py3-none-any.whl.metadata (2.9 kB)\n",
            "Collecting groq<1,>=0.4.1 (from langchain_groq)\n",
            "  Downloading groq-0.13.1-py3-none-any.whl.metadata (14 kB)\n",
            "Requirement already satisfied: langchain-core<0.4.0,>=0.3.15 in /usr/local/lib/python3.10/dist-packages (from langchain_groq) (0.3.25)\n",
            "Requirement already satisfied: anyio<5,>=3.5.0 in /usr/local/lib/python3.10/dist-packages (from groq<1,>=0.4.1->langchain_groq) (3.7.1)\n",
            "Requirement already satisfied: distro<2,>=1.7.0 in /usr/local/lib/python3.10/dist-packages (from groq<1,>=0.4.1->langchain_groq) (1.9.0)\n",
            "Requirement already satisfied: httpx<1,>=0.23.0 in /usr/local/lib/python3.10/dist-packages (from groq<1,>=0.4.1->langchain_groq) (0.28.1)\n",
            "Requirement already satisfied: pydantic<3,>=1.9.0 in /usr/local/lib/python3.10/dist-packages (from groq<1,>=0.4.1->langchain_groq) (2.10.3)\n",
            "Requirement already satisfied: sniffio in /usr/local/lib/python3.10/dist-packages (from groq<1,>=0.4.1->langchain_groq) (1.3.1)\n",
            "Requirement already satisfied: typing-extensions<5,>=4.10 in /usr/local/lib/python3.10/dist-packages (from groq<1,>=0.4.1->langchain_groq) (4.12.2)\n",
            "Requirement already satisfied: PyYAML>=5.3 in /usr/local/lib/python3.10/dist-packages (from langchain-core<0.4.0,>=0.3.15->langchain_groq) (6.0.2)\n",
            "Requirement already satisfied: jsonpatch<2.0,>=1.33 in /usr/local/lib/python3.10/dist-packages (from langchain-core<0.4.0,>=0.3.15->langchain_groq) (1.33)\n",
            "Requirement already satisfied: langsmith<0.3,>=0.1.125 in /usr/local/lib/python3.10/dist-packages (from langchain-core<0.4.0,>=0.3.15->langchain_groq) (0.2.2)\n",
            "Requirement already satisfied: packaging<25,>=23.2 in /usr/local/lib/python3.10/dist-packages (from langchain-core<0.4.0,>=0.3.15->langchain_groq) (24.2)\n",
            "Requirement already satisfied: tenacity!=8.4.0,<10.0.0,>=8.1.0 in /usr/local/lib/python3.10/dist-packages (from langchain-core<0.4.0,>=0.3.15->langchain_groq) (9.0.0)\n",
            "Requirement already satisfied: idna>=2.8 in /usr/local/lib/python3.10/dist-packages (from anyio<5,>=3.5.0->groq<1,>=0.4.1->langchain_groq) (3.10)\n",
            "Requirement already satisfied: exceptiongroup in /usr/local/lib/python3.10/dist-packages (from anyio<5,>=3.5.0->groq<1,>=0.4.1->langchain_groq) (1.2.2)\n",
            "Requirement already satisfied: certifi in /usr/local/lib/python3.10/dist-packages (from httpx<1,>=0.23.0->groq<1,>=0.4.1->langchain_groq) (2024.8.30)\n",
            "Requirement already satisfied: httpcore==1.* in /usr/local/lib/python3.10/dist-packages (from httpx<1,>=0.23.0->groq<1,>=0.4.1->langchain_groq) (1.0.7)\n",
            "Requirement already satisfied: h11<0.15,>=0.13 in /usr/local/lib/python3.10/dist-packages (from httpcore==1.*->httpx<1,>=0.23.0->groq<1,>=0.4.1->langchain_groq) (0.14.0)\n",
            "Requirement already satisfied: jsonpointer>=1.9 in /usr/local/lib/python3.10/dist-packages (from jsonpatch<2.0,>=1.33->langchain-core<0.4.0,>=0.3.15->langchain_groq) (3.0.0)\n",
            "Requirement already satisfied: orjson<4.0.0,>=3.9.14 in /usr/local/lib/python3.10/dist-packages (from langsmith<0.3,>=0.1.125->langchain-core<0.4.0,>=0.3.15->langchain_groq) (3.10.12)\n",
            "Requirement already satisfied: requests<3,>=2 in /usr/local/lib/python3.10/dist-packages (from langsmith<0.3,>=0.1.125->langchain-core<0.4.0,>=0.3.15->langchain_groq) (2.32.3)\n",
            "Requirement already satisfied: requests-toolbelt<2.0.0,>=1.0.0 in /usr/local/lib/python3.10/dist-packages (from langsmith<0.3,>=0.1.125->langchain-core<0.4.0,>=0.3.15->langchain_groq) (1.0.0)\n",
            "Requirement already satisfied: annotated-types>=0.6.0 in /usr/local/lib/python3.10/dist-packages (from pydantic<3,>=1.9.0->groq<1,>=0.4.1->langchain_groq) (0.7.0)\n",
            "Requirement already satisfied: pydantic-core==2.27.1 in /usr/local/lib/python3.10/dist-packages (from pydantic<3,>=1.9.0->groq<1,>=0.4.1->langchain_groq) (2.27.1)\n",
            "Requirement already satisfied: charset-normalizer<4,>=2 in /usr/local/lib/python3.10/dist-packages (from requests<3,>=2->langsmith<0.3,>=0.1.125->langchain-core<0.4.0,>=0.3.15->langchain_groq) (3.4.0)\n",
            "Requirement already satisfied: urllib3<3,>=1.21.1 in /usr/local/lib/python3.10/dist-packages (from requests<3,>=2->langsmith<0.3,>=0.1.125->langchain-core<0.4.0,>=0.3.15->langchain_groq) (2.2.3)\n",
            "Downloading langchain_groq-0.2.1-py3-none-any.whl (14 kB)\n",
            "Downloading groq-0.13.1-py3-none-any.whl (109 kB)\n",
            "\u001b[2K   \u001b[90m━━━━━━━━━━━━━━━━━━━━━━━━━━━━━━━━━━━━━━━━\u001b[0m \u001b[32m109.1/109.1 kB\u001b[0m \u001b[31m4.2 MB/s\u001b[0m eta \u001b[36m0:00:00\u001b[0m\n",
            "\u001b[?25hInstalling collected packages: groq, langchain_groq\n",
            "Successfully installed groq-0.13.1 langchain_groq-0.2.1\n"
          ]
        }
      ]
    },
    {
      "cell_type": "code",
      "source": [
        "from google.colab import userdata"
      ],
      "metadata": {
        "id": "UlownEYKbJ4e"
      },
      "execution_count": null,
      "outputs": []
    },
    {
      "cell_type": "code",
      "source": [
        "GROQ_KEY=\"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\""
      ],
      "metadata": {
        "id": "MYeQAIjRb0G9"
      },
      "execution_count": null,
      "outputs": []
    },
    {
      "cell_type": "code",
      "source": [
        "NEO4J_URI=\"neo4j+s://41da11af.databases.neo4j.io\"\n",
        "NEO4J_USERNAME=\"neo4j\"\n",
        "NEO4J_PASSWORD=\"JkZ1FHG9YM90U4vEnLBMkiufOTDwH4rrfJYKUlcMgjY\"\n",
        "AURA_INSTANCEID=\"41da11af\"\n",
        "AURA_INSTANCENAME=\"Instance01\""
      ],
      "metadata": {
        "id": "lWxS-cn8bmuh"
      },
      "execution_count": null,
      "outputs": []
    },
    {
      "cell_type": "code",
      "source": [
        "import os\n",
        "os.environ['NEO4J_URI'] = NEO4J_URI\n",
        "os.environ['NEO4J_USERNAME'] = NEO4J_USERNAME\n",
        "os.environ['NEO4J_PASSWORD'] = NEO4J_PASSWORD\n"
      ],
      "metadata": {
        "id": "KwjbTlbObqle"
      },
      "execution_count": null,
      "outputs": []
    },
    {
      "cell_type": "code",
      "source": [
        "from langchain_community.graphs import Neo4jGraph"
      ],
      "metadata": {
        "id": "3ZmEfw4FbtBv"
      },
      "execution_count": null,
      "outputs": []
    },
    {
      "cell_type": "code",
      "source": [
        "graph = Neo4jGraph(\n",
        "    url=NEO4J_URI, username=NEO4J_USERNAME, password=NEO4J_PASSWORD\n",
        ")"
      ],
      "metadata": {
        "id": "CizEG277bw5G"
      },
      "execution_count": null,
      "outputs": []
    },
    {
      "cell_type": "code",
      "source": [
        "from langchain_groq import ChatGroq"
      ],
      "metadata": {
        "id": "1h7yHc9yb8ym"
      },
      "execution_count": null,
      "outputs": []
    },
    {
      "cell_type": "code",
      "source": [
        "llm = ChatGroq(groq_api_key=GROQ_KEY, model_name=\"Gemma2-9b-It\")\n",
        "llm"
      ],
      "metadata": {
        "colab": {
          "base_uri": "https://localhost:8080/"
        },
        "id": "gvXQCD4pcTff",
        "outputId": "7bb2cb9c-0d62-437a-8693-6c8a54189ccb"
      },
      "execution_count": null,
      "outputs": [
        {
          "output_type": "execute_result",
          "data": {
            "text/plain": [
              "ChatGroq(client=<groq.resources.chat.completions.Completions object at 0x7be42d1f7850>, async_client=<groq.resources.chat.completions.AsyncCompletions object at 0x7be42da6f310>, model_name='Gemma2-9b-It', model_kwargs={}, groq_api_key=SecretStr('**********'))"
            ]
          },
          "metadata": {},
          "execution_count": 22
        }
      ]
    },
    {
      "cell_type": "code",
      "source": [
        "from langchain_core.documents import Document"
      ],
      "metadata": {
        "id": "ayjRNMUgcqW4"
      },
      "execution_count": null,
      "outputs": []
    },
    {
      "cell_type": "code",
      "source": [
        "from langchain.document_loaders import WikipediaLoader\n",
        "raw_documents = WikipediaLoader(query='Virat Kohli').load()"
      ],
      "metadata": {
        "id": "Ye3tBru2nXIy"
      },
      "execution_count": null,
      "outputs": []
    },
    {
      "cell_type": "code",
      "source": [
        "from langchain.text_splitter import TokenTextSplitter\n",
        "text_splitter = TokenTextSplitter(chunk_size=512, chunk_overlap=24)\n",
        "documents = text_splitter.split_documents(raw_documents[:3])"
      ],
      "metadata": {
        "id": "WqsxfBOTyXuk"
      },
      "execution_count": null,
      "outputs": []
    },
    {
      "cell_type": "code",
      "source": [
        "from langchain_experimental.graph_transformers import LLMGraphTransformer\n",
        "llm_transformer = LLMGraphTransformer(llm=llm,node_properties=True,relationship_properties=True)"
      ],
      "metadata": {
        "id": "v56WScaNyXxJ"
      },
      "execution_count": null,
      "outputs": []
    },
    {
      "cell_type": "code",
      "source": [
        "graph_documents = llm_transformer.convert_to_graph_documents(documents)"
      ],
      "metadata": {
        "id": "TqEF8ke09diw"
      },
      "execution_count": null,
      "outputs": []
    },
    {
      "cell_type": "code",
      "source": [
        "graph.add_graph_documents(\n",
        "    graph_documents,\n",
        "    baseEntityLabel=True,\n",
        "    include_source=True)"
      ],
      "metadata": {
        "id": "KydIMX0M9h71"
      },
      "execution_count": null,
      "outputs": []
    },
    {
      "cell_type": "code",
      "source": [
        "from langchain.chains import GraphCypherQAChain\n",
        "chain=GraphCypherQAChain.from_llm(llm=llm, graph=graph, verbose=True,allow_dangerous_requests=True)\n",
        "chain"
      ],
      "metadata": {
        "colab": {
          "base_uri": "https://localhost:8080/"
        },
        "id": "pRUCE9OqyX0G",
        "outputId": "6281f3fc-e7df-4e62-f40f-c244f915d676"
      },
      "execution_count": null,
      "outputs": [
        {
          "output_type": "execute_result",
          "data": {
            "text/plain": [
              "GraphCypherQAChain(verbose=True, graph=<langchain_community.graphs.neo4j_graph.Neo4jGraph object at 0x7be42da6c880>, cypher_generation_chain=LLMChain(verbose=False, prompt=PromptTemplate(input_variables=['question', 'schema'], input_types={}, partial_variables={}, template='Task:Generate Cypher statement to query a graph database.\\nInstructions:\\nUse only the provided relationship types and properties in the schema.\\nDo not use any other relationship types or properties that are not provided.\\nSchema:\\n{schema}\\nNote: Do not include any explanations or apologies in your responses.\\nDo not respond to any questions that might ask anything else than for you to construct a Cypher statement.\\nDo not include any text except the generated Cypher statement.\\n\\nThe question is:\\n{question}'), llm=ChatGroq(client=<groq.resources.chat.completions.Completions object at 0x7be42d1f7850>, async_client=<groq.resources.chat.completions.AsyncCompletions object at 0x7be42da6f310>, model_name='Gemma2-9b-It', model_kwargs={}, groq_api_key=SecretStr('**********')), output_parser=StrOutputParser(), llm_kwargs={}), qa_chain=LLMChain(verbose=False, prompt=PromptTemplate(input_variables=['context', 'question'], input_types={}, partial_variables={}, template=\"You are an assistant that helps to form nice and human understandable answers.\\nThe information part contains the provided information that you must use to construct an answer.\\nThe provided information is authoritative, you must never doubt it or try to use your internal knowledge to correct it.\\nMake the answer sound as a response to the question. Do not mention that you based the result on the given information.\\nHere is an example:\\n\\nQuestion: Which managers own Neo4j stocks?\\nContext:[manager:CTL LLC, manager:JANE STREET GROUP LLC]\\nHelpful Answer: CTL LLC, JANE STREET GROUP LLC owns Neo4j stocks.\\n\\nFollow this example when generating answers.\\nIf the provided information is empty, say that you don't know the answer.\\nInformation:\\n{context}\\n\\nQuestion: {question}\\nHelpful Answer:\"), llm=ChatGroq(client=<groq.resources.chat.completions.Completions object at 0x7be42d1f7850>, async_client=<groq.resources.chat.completions.AsyncCompletions object at 0x7be42da6f310>, model_name='Gemma2-9b-It', model_kwargs={}, groq_api_key=SecretStr('**********')), output_parser=StrOutputParser(), llm_kwargs={}), graph_schema='Node properties are the following:\\nDocument {id: STRING, text: STRING, summary: STRING, source: STRING, title: STRING, embedding: LIST},Person {id: STRING, role: STRING, died: STRING, born: STRING, place_of_birth: STRING, date_of_birth: STRING, parents: STRING},Concept {id: STRING},Location {id: STRING, place: STRING},Artist {id: STRING},Timeperiod {id: STRING},Language {id: STRING},Title {id: STRING},Country {id: STRING},University {id: STRING},City {id: STRING},Organisation {id: STRING},Building {id: STRING},Cathedral {id: STRING, place: STRING},Empire {id: STRING},War {id: STRING},Organization {id: STRING},Place {id: STRING},Designation {id: STRING},Religion {id: STRING},Time period {id: STRING},Event {id: STRING},Institution {id: STRING},Conflict {id: STRING},Month {id: STRING},Year {id: STRING},House {id: STRING},Date {id: STRING},Duchy {id: STRING},Law {id: STRING}\\nRelationship properties are the following:\\nSUCCESSOR {startdate: STRING, enddate: STRING},MARRIED {date: STRING},TSREVNA {date: STRING}\\nThe relationships are the following:\\n(:Document)-[:MENTIONS]->(:Person),(:Document)-[:MENTIONS]->(:Concept),(:Document)-[:MENTIONS]->(:Organisation),(:Document)-[:MENTIONS]->(:Organization),(:Document)-[:MENTIONS]->(:Location),(:Document)-[:MENTIONS]->(:Country),(:Document)-[:MENTIONS]->(:Place),(:Document)-[:MENTIONS]->(:Title),(:Document)-[:MENTIONS]->(:Designation),(:Document)-[:MENTIONS]->(:Religion),(:Document)-[:MENTIONS]->(:Document),(:Document)-[:MENTIONS]->(:Artist),(:Document)-[:MENTIONS]->(:Timeperiod),(:Document)-[:MENTIONS]->(:Time period),(:Document)-[:MENTIONS]->(:Event),(:Document)-[:MENTIONS]->(:Language),(:Document)-[:MENTIONS]->(:University),(:Document)-[:MENTIONS]->(:Institution),(:Document)-[:MENTIONS]->(:City),(:Document)-[:MENTIONS]->(:Building),(:Document)-[:MENTIONS]->(:Cathedral),(:Document)-[:MENTIONS]->(:Empire),(:Document)-[:MENTIONS]->(:War),(:Document)-[:MENTIONS]->(:Conflict),(:Document)-[:MENTIONS]->(:Date),(:Document)-[:MENTIONS]->(:Year),(:Document)-[:MENTIONS]->(:Duchy),(:Document)-[:MENTIONS]->(:House),(:Document)-[:MENTIONS]->(:Month),(:Document)-[:MENTIONS]->(:Law),(:Document)-[:RESTORED]->(:Person),(:Person)-[:LAST_MONARCH]->(:Concept),(:Person)-[:LAST_MONARCH]->(:Organisation),(:Person)-[:LAST_MONARCH]->(:Organization),(:Person)-[:CHILD]->(:Person),(:Person)-[:QUEEN]->(:Location),(:Person)-[:QUEEN]->(:Country),(:Person)-[:QUEEN]->(:Place),(:Person)-[:TRUSTED_ADVISOR]->(:Person),(:Person)-[:ADVISOR]->(:Person),(:Person)-[:GOVERNOR]->(:Concept),(:Person)-[:GOVERNOR]->(:Organisation),(:Person)-[:GOVERNOR]->(:Organization),(:Person)-[:SUCCESSOR]->(:Person),(:Person)-[:LEADER]->(:Concept),(:Person)-[:LEADER]->(:Organisation),(:Person)-[:LEADER]->(:Organization),(:Person)-[:MINISTER]->(:Person),(:Person)-[:HALF_SISTER]->(:Person),(:Person)-[:HALF_BROTHER]->(:Person),(:Person)-[:COUSIN]->(:Person),(:Person)-[:MANOEUVRING]->(:Location),(:Person)-[:MANOEUVRING]->(:Country),(:Person)-[:MANOEUVRING]->(:Place),(:Person)-[:SUPPORTED]->(:Organisation),(:Person)-[:SUPPORTED]->(:Religion),(:Person)-[:SUPPORTED]->(:Country),(:Person)-[:SUPPORTED]->(:Location),(:Person)-[:SUPPORTED]->(:Person),(:Person)-[:SUPPORTED]->(:Artist),(:Person)-[:CONSPIRACY]->(:Concept),(:Person)-[:CONSPIRACY]->(:Event),(:Person)-[:CRISIS]->(:Concept),(:Person)-[:CRISIS]->(:Event),(:Person)-[:CORRESPONDENCE]->(:Concept),(:Person)-[:CORRESPONDENCE]->(:Event),(:Person)-[:AFFAIR]->(:Concept),(:Person)-[:AFFAIR]->(:Event),(:Person)-[:RELATEDDOCUMENT]->(:Concept),(:Person)-[:RELATEDDOCUMENT]->(:Law),(:Person)-[:INVOLVED]->(:Concept),(:Person)-[:INVOLVED]->(:Event),(:Person)-[:INVOLVED]->(:Law),(:Person)-[:MONARCH]->(:Concept),(:Person)-[:MONARCH]->(:Organisation),(:Person)-[:MONARCH]->(:Organization),(:Person)-[:SIBLING]->(:Person),(:Person)-[:ADVISER]->(:Person),(:Person)-[:CREATED]->(:Concept),(:Person)-[:CREATED]->(:Title),(:Person)-[:CREATED]->(:Designation),(:Person)-[:MEMBER]->(:Concept),(:Person)-[:MEMBER]->(:Organisation),(:Person)-[:MEMBER]->(:Organization),(:Person)-[:MEMBER]->(:Religion),(:Person)-[:MEMBER]->(:House),(:Person)-[:WAS]->(:Designation),(:Person)-[:WAS]->(:Concept),(:Person)-[:WAS]->(:Title),(:Person)-[:TRUSTED]->(:Person),(:Person)-[:REFERRED_TO]->(:Designation),(:Person)-[:MANOEUVRED]->(:Location),(:Person)-[:MANOEUVRED]->(:Country),(:Person)-[:MANOEUVRED]->(:Place),(:Person)-[:WAR]->(:Concept),(:Person)-[:WAR]->(:Event),(:Person)-[:WAR]->(:Location),(:Person)-[:WAR]->(:Country),(:Person)-[:WAR]->(:Place),(:Person)-[:FATHER]->(:Person),(:Person)-[:PARENT]->(:Person),(:Person)-[:MARRIED]->(:Person),(:Person)-[:MARRIED]->(:Location),(:Person)-[:MARRIED]->(:City),(:Person)-[:MARRIED]->(:Cathedral),(:Person)-[:WIFE]->(:Person),(:Person)-[:DEPOSED]->(:Person),(:Person)-[:EXECUTED]->(:Person),(:Person)-[:FOLLOWED]->(:Organisation),(:Person)-[:FOLLOWED]->(:Religion),(:Person)-[:EXECUTED_BY]->(:Person),(:Person)-[:BARON]->(:Concept),(:Person)-[:BARON]->(:Title),(:Person)-[:BARON]->(:Designation),(:Person)-[:SON]->(:Person),(:Person)-[:SUCCEEDED]->(:Person),(:Person)-[:PROBLEM]->(:Organisation),(:Person)-[:HALF_BROTHER_OF]->(:Person),(:Person)-[:FAVOURITE_ARCHITECT]->(:Person),(:Person)-[:RULER_DURING]->(:War),(:Person)-[:RULER_DURING]->(:Event),(:Person)-[:RULER_DURING]->(:Conflict),(:Person)-[:GRANDCHILD]->(:Person),(:Person)-[:BIRTHPLACE]->(:Location),(:Person)-[:TSREVNA]->(:Location),(:Person)-[:TSREVNA]->(:Country),(:Person)-[:DAUGHTER_OF]->(:Person),(:Person)-[:ENCOURAGED]->(:Person),(:Person)-[:ENCOURAGED]->(:University),(:Person)-[:ENCOURAGED]->(:Organization),(:Person)-[:ENCOURAGED]->(:Institution),(:Person)-[:FINANCED]->(:Person),(:Person)-[:CONSTRUCTED]->(:Location),(:Person)-[:CONSTRUCTED]->(:Building),(:Person)-[:CONSTRUCTED]->(:Place),(:Person)-[:CONSTRUCTED]->(:Cathedral),(:Person)-[:OCCUPIED]->(:Location),(:Person)-[:OCCUPIED]->(:City),(:Person)-[:BORN_AT]->(:Location),(:Person)-[:BORN_AT]->(:Place),(:Person)-[:BORN_ON]->(:Date),(:Person)-[:LEGITIMIZED]->(:Title),(:Person)-[:REIGNED]->(:Location),(:Person)-[:REIGNED]->(:Empire),(:Person)-[:REIGN]->(:Timeperiod),(:Person)-[:REIGN]->(:Time period),(:Person)-[:REIGN]->(:Event),(:Person)-[:REIGN]->(:Location),(:Person)-[:REIGN]->(:Empire),(:Person)-[:DEFEAT]->(:Event),(:Person)-[:BORN]->(:Location),(:Person)-[:BORN]->(:Place),(:Person)-[:BORN]->(:Date),(:Person)-[:NAMED_AFTER]->(:Person),(:Person)-[:EMPRESS]->(:Location),(:Person)-[:EMPRESS]->(:Country),(:Person)-[:EMPRESS]->(:Empire),(:Person)-[:HEIR]->(:Person),(:Person)-[:FOUNDER]->(:University),(:Person)-[:FOUNDER]->(:Organization),(:Person)-[:FOUNDER]->(:Institution),(:Person)-[:FOUNDER]->(:Organisation),(:Person)-[:OPPOSITION]->(:Location),(:Person)-[:OPPOSITION]->(:Country),(:Person)-[:DIPLOMAT]->(:Person),(:Person)-[:RULER]->(:Location),(:Person)-[:RULER]->(:Country),(:Person)-[:RULER]->(:Place),(:Person)-[:RULER]->(:City),(:Person)-[:PARTICIPANT]->(:War),(:Person)-[:PARTICIPANT]->(:Event),(:Person)-[:PARTICIPANT]->(:Conflict),(:Person)-[:BORN_NEAR]->(:Location),(:Person)-[:BORN_NEAR]->(:City),(:Person)-[:BORN_IN]->(:Location),(:Person)-[:BORN_IN]->(:Country),(:Person)-[:DAUGHTER]->(:Person),(:Person)-[:RULED]->(:Timeperiod),(:Person)-[:RULED]->(:Time period),(:Person)-[:RULED]->(:Event),(:Person)-[:NAMED]->(:Person),(:Person)-[:NEPHEW]->(:Person),(:Person)-[:ALLIES]->(:Location),(:Person)-[:ALLIES]->(:Country),(:Person)-[:WORKED_WITH]->(:Person),(:Person)-[:OPPONENT]->(:Person),(:Person)-[:DIED]->(:Date),(:Person)-[:FAVORITE]->(:Person),(:Person)-[:RESEMBLED]->(:Person),(:Person)-[:FLOURISHED]->(:Timeperiod),(:Person)-[:FLOURISHED]->(:Time period),(:Person)-[:FLOURISHED]->(:Event),(:Person)-[:PROWESS]->(:Timeperiod),(:Person)-[:PROWESS]->(:Time period),(:Person)-[:PROWESS]->(:Event),(:Person)-[:FOUNDATION_ENCOURAGED]->(:University),(:Person)-[:FOUNDATION_ENCOURAGED]->(:Organization),(:Person)-[:FOUNDATION_ENCOURAGED]->(:Institution),(:Person)-[:FOUNDATION_ENCOURAGED]->(:Organisation),(:Person)-[:LED_EMPIRE_DURING]->(:War),(:Person)-[:LED_EMPIRE_DURING]->(:Event),(:Person)-[:LED_EMPIRE_DURING]->(:Conflict),(:Person)-[:ALLIANCE]->(:Location),(:Person)-[:ALLIANCE]->(:Country),(:Person)-[:KNOWN_AS]->(:Language),(:Person)-[:EMPRESS_OF]->(:Title),(:Person)-[:DECLARED_HER_OWN_NEPHEW]->(:Person),(:Person)-[:LED]->(:Location),(:Person)-[:LED]->(:Empire),(:Person)-[:COLLABORATED_WITH]->(:Person),(:Person)-[:FATHER_OF]->(:Person),(:Person)-[:MARRIED_SECRETLY_AT_SOME_POINT_BETWEEN_23_OCTOBER_AND_1_DECEMBER_1707]->(:Location),(:Person)-[:MARRIED_SECRETLY_AT_SOME_POINT_BETWEEN_23_OCTOBER_AND_1_DECEMBER_1707]->(:Cathedral),(:Person)-[:OFFICIAL_MARRIAGE_AT_ON_9_FEBRUARY_1712]->(:Location),(:Person)-[:OFFICIAL_MARRIAGE_AT_ON_9_FEBRUARY_1712]->(:City),(:Person)-[:LEGITIMISED_BY_THEIR_FATHER_AND_GIVEN_TITLE_OF_ON]->(:Date),(:Person)-[:LOCATED_IN]->(:Location),(:Person)-[:LOCATED_IN]->(:City),(:Person)-[:MARRIED_AT]->(:Location),(:Person)-[:MARRIED_AT]->(:Cathedral),(:Person)-[:LEGITIMISED]->(:Person),(:Person)-[:TITLE]->(:Title),(:Person)-[:TITLE]->(:Person),(:Person)-[:MOTHER]->(:Person),(:Person)-[:RULER_TO]->(:Year),(:Person)-[:GREAT_AUNT]->(:Person),(:Person)-[:FIRST_COUSIN]->(:Person),(:Person)-[:RULER_FROM]->(:Year),(:Person)-[:INFANT_GREAT_NEPHEW_OF]->(:Person),(:Person)-[:NEPHEW_OF]->(:Person),(:Person)-[:FOUNDED]->(:University),(:Person)-[:FOUNDED]->(:Organization),(:Person)-[:FOUNDED]->(:Institution),(:Person)-[:FOUNDED]->(:Organisation),(:Person)-[:BUILT]->(:Location),(:Person)-[:BUILT]->(:Building),(:Person)-[:BUILT]->(:Place),(:Person)-[:BUILT]->(:Cathedral),(:Person)-[:ALLIANCE_WITH]->(:Location),(:Person)-[:ALLIANCE_WITH]->(:Country),(:Person)-[:DIPLOMAT_OF]->(:Person),(:Person)-[:CONSIDERING_SURRENDER_IN]->(:Month),(:Person)-[:CONSIDERING_SURRENDER_IN]->(:Year),(:Person)-[:RULER_OF]->(:Location),(:Person)-[:RULER_OF]->(:City),(:Person)-[:CONSIDERING_SURRENDER]->(:Date),(:Person)-[:CITIZEN]->(:Location),(:Person)-[:CITIZEN]->(:Country),(:Person)-[:CITIZEN]->(:Duchy),(:Person)-[:RAISED]->(:Person),(:Person)-[:DAUGHTER_OF_SUBJECT_OF]->(:Location),(:Person)-[:DAUGHTER_OF_SUBJECT_OF]->(:Country),(:Person)-[:DAUGHTER_OF_SUBJECT_OF]->(:Duchy),(:Person)-[:MOTHER_OF]->(:Person),(:Person)-[:SUBJECT]->(:Location),(:Person)-[:SUBJECT]->(:Country),(:Person)-[:SUBJECT]->(:Duchy),(:Person)-[:SUBJECT_OF]->(:Location),(:Person)-[:SUBJECT_OF]->(:Country),(:Person)-[:SUBJECT_OF]->(:Duchy),(:Person)-[:SON_BY_FIRST_WIFE]->(:Person),(:Person)-[:SPANS]->(:Concept),(:Person)-[:SAT]->(:Person),(:Person)-[:EMPLOYER]->(:Person),(:Person)-[:APPOINT]->(:Concept),(:Person)-[:CREATE]->(:Concept),(:Person)-[:ARTIST]->(:Person),(:Person)-[:VISITED]->(:Location),(:Person)-[:VISITED]->(:Country),(:Person)-[:VISITED]->(:Place),(:Person)-[:COURT_ARTIST]->(:Person),(:Person)-[:PAINTED]->(:Person),(:Person)-[:PAINTED]->(:Place),(:Person)-[:KING]->(:Country),(:Person)-[:LAST_AGNATIC_MEMBER_TO_REIGN_OVER_THE]->(:Organization),(:Person)-[:LAST_AGNATIC_MEMBER_TO_REIGN_OVER_THE]->(:House),(:Person)-[:SPOUSE]->(:Person),(:Concept)-[:EVOLVED]->(:Organisation),(:Concept)-[:DEVELOP]->(:Concept),(:Concept)-[:BASE]->(:Concept),(:Location)-[:MINISTER]->(:Person),(:Location)-[:OCCUPIED]->(:Location),(:Location)-[:OCCUPIED]->(:City),(:Location)-[:LOCATION]->(:Location),(:Location)-[:LOCATION]->(:City),(:Location)-[:LOCATED_IN]->(:Location),(:Location)-[:LOCATED_IN]->(:City),(:Location)-[:INVOLVED_IN]->(:War),(:Location)-[:INVOLVED_IN]->(:Event),(:Location)-[:INVOLVED_IN]->(:Conflict),(:Location)-[:PARTICIPANT]->(:War),(:Location)-[:PARTICIPANT]->(:Event),(:Location)-[:PARTICIPANT]->(:Conflict),(:Location)-[:ALLIED_WITH]->(:Location),(:Location)-[:ALLIED_WITH]->(:Country),(:Artist)-[:FLOURISHED]->(:Timeperiod),(:Artist)-[:FLOURISHED]->(:Time period),(:Artist)-[:FLOURISHED]->(:Event),(:Timeperiod)-[:SOVEREIGN]->(:Person),(:Title)-[:EMPRESS_OF]->(:Location),(:Title)-[:EMPRESS_OF]->(:Country),(:Country)-[:MINISTER]->(:Person),(:Country)-[:OCCUPIED]->(:Location),(:Country)-[:OCCUPIED]->(:City),(:Country)-[:ALLIED_WITH]->(:Location),(:Country)-[:ALLIED_WITH]->(:Country),(:University)-[:LOCATED_IN]->(:Location),(:University)-[:LOCATED_IN]->(:City),(:Organisation)-[:EVOLVED]->(:Organisation),(:Organisation)-[:GOVERNOR]->(:Person),(:Building)-[:LOCATION]->(:Location),(:Building)-[:LOCATION]->(:City),(:Building)-[:LOCATED_IN]->(:Location),(:Building)-[:LOCATED_IN]->(:City),(:Cathedral)-[:LOCATION]->(:Location),(:Cathedral)-[:LOCATION]->(:City),(:Cathedral)-[:LOCATED_IN]->(:Location),(:Cathedral)-[:LOCATED_IN]->(:City),(:Empire)-[:INVOLVED_IN]->(:War),(:Empire)-[:INVOLVED_IN]->(:Event),(:Empire)-[:INVOLVED_IN]->(:Conflict),(:Empire)-[:PARTICIPANT]->(:War),(:Empire)-[:PARTICIPANT]->(:Event),(:Empire)-[:PARTICIPANT]->(:Conflict),(:War)-[:FROM]->(:Year),(:War)-[:TO]->(:Year),(:Organization)-[:EVOLVED]->(:Organisation),(:Organization)-[:LOCATED_IN]->(:Location),(:Organization)-[:LOCATED_IN]->(:City),(:Organization)-[:OCCUPIED]->(:Location),(:Organization)-[:OCCUPIED]->(:City),(:Organization)-[:VICTORIES]->(:Location),(:Organization)-[:VICTORIES]->(:Country),(:Organization)-[:ENJOYED_SEVERAL_VICTORIES_AGAINST]->(:Location),(:Organization)-[:ENJOYED_SEVERAL_VICTORIES_AGAINST]->(:Country),(:Organization)-[:BRIEFLY_OCCUPIED]->(:Location),(:Organization)-[:BRIEFLY_OCCUPIED]->(:City),(:Place)-[:MINISTER]->(:Person),(:Place)-[:LOCATION]->(:Location),(:Place)-[:LOCATION]->(:City),(:Place)-[:LOCATED_IN]->(:Location),(:Place)-[:LOCATED_IN]->(:City),(:Time period)-[:SOVEREIGN]->(:Person),(:Event)-[:SOVEREIGN]->(:Person),(:Event)-[:FROM]->(:Year),(:Event)-[:TO]->(:Year),(:Event)-[:DEFEAT]->(:Timeperiod),(:Event)-[:DEFEAT]->(:Time period),(:Event)-[:DEFEAT]->(:Event),(:Event)-[:CONSOLIDATED]->(:Event),(:Institution)-[:LOCATED_IN]->(:Location),(:Institution)-[:LOCATED_IN]->(:City),(:Conflict)-[:FROM]->(:Year),(:Conflict)-[:TO]->(:Year)', allow_dangerous_requests=True)"
            ]
          },
          "metadata": {},
          "execution_count": 26
        }
      ]
    },
    {
      "cell_type": "code",
      "source": [
        "chain.invoke({\"query\":\"When Elizabeth I was Born\"})"
      ],
      "metadata": {
        "colab": {
          "base_uri": "https://localhost:8080/"
        },
        "id": "8qP6zPDOy7Ya",
        "outputId": "033b89a8-4c54-4705-c41a-e7dd7257589b"
      },
      "execution_count": null,
      "outputs": [
        {
          "output_type": "stream",
          "name": "stdout",
          "text": [
            "\n",
            "\n",
            "\u001b[1m> Entering new GraphCypherQAChain chain...\u001b[0m\n",
            "Generated Cypher:\n",
            "\u001b[32;1m\u001b[1;3mMATCH (p:Person {id:\"Elizabeth I\"}) RETURN p.born\u001b[0m\n",
            "Full Context:\n",
            "\u001b[32;1m\u001b[1;3m[{'p.born': '1533-09-07'}]\u001b[0m\n",
            "\n",
            "\u001b[1m> Finished chain.\u001b[0m\n"
          ]
        },
        {
          "output_type": "execute_result",
          "data": {
            "text/plain": [
              "{'query': 'When Elizabeth I was Born', 'result': 'September 7, 1533.  \\n'}"
            ]
          },
          "metadata": {},
          "execution_count": 35
        }
      ]
    },
    {
      "cell_type": "code",
      "source": [
        "import requests\n",
        "import json\n",
        "def generate_answer_with_llm(prompt:str) -> str:\n",
        "  api_key = \"nipqq2mHYIQjJVDsWKXzCB49vGab1wBB\"\n",
        "  url = \"https://api.deepinfra.com/v1/openai/chat/completions\"\n",
        "  headers = {\n",
        "    \"Content-Type\": \"application/json\",\n",
        "    \"Authorization\": f\"Bearer {api_key}\",\n",
        "  }\n",
        "\n",
        "  data = {\n",
        "    \"model\": \"google/gemma-2-27b-it\",\n",
        "    \"messages\": [\n",
        "        {\n",
        "            \"role\": \"user\",\n",
        "            \"content\": prompt\n",
        "        }\n",
        "    ]\n",
        "  }\n",
        "  response = requests.post(url, headers=headers, data=json.dumps(data))\n",
        "  # Check the response\n",
        "  if response.status_code == 200:\n",
        "    result = response.json()\n",
        "    print(result['choices'][0]['message']['content'])\n",
        "  else:\n",
        "    print(f\"Error: {response.status_code}\")\n",
        "    print(response.text)"
      ],
      "metadata": {
        "id": "KFlbHm7p5LI0"
      },
      "execution_count": null,
      "outputs": []
    },
    {
      "cell_type": "code",
      "source": [
        "def prompt_formatter(query: str,context) -> str:\n",
        "\n",
        "  based_prompt = \"\"\"Based on this Context Items , Please answer the query.\n",
        "  Query:{query}\n",
        "  context:{context}\n",
        "  Answer\n",
        "  \"\"\"\n",
        "\n",
        "\n",
        "  prompt = based_prompt.format(query=query,context=context)\n",
        "\n",
        "  return prompt"
      ],
      "metadata": {
        "id": "3HuhrGPZ5io8"
      },
      "execution_count": null,
      "outputs": []
    },
    {
      "cell_type": "code",
      "source": [
        "query = input(\"Enter your Query:\").strip()\n",
        "result = chain.invoke({\"query\": query})\n",
        "print(result)\n",
        "\n",
        "prompt = prompt_formatter(query=query,context=result)\n",
        "generate_answer_with_llm(prompt)"
      ],
      "metadata": {
        "colab": {
          "base_uri": "https://localhost:8080/"
        },
        "id": "98OJ76WF5l3-",
        "outputId": "1fbb55a8-4e09-4e7c-94b2-3d8367e01853"
      },
      "execution_count": null,
      "outputs": [
        {
          "output_type": "stream",
          "name": "stdout",
          "text": [
            "Enter your Query:Who Is Virat Khli\n",
            "\n",
            "\n",
            "\u001b[1m> Entering new GraphCypherQAChain chain...\u001b[0m\n",
            "Generated Cypher:\n",
            "\u001b[32;1m\u001b[1;3mMATCH (p:Person {id: 'Virat Kohli'}) RETURN p\n",
            "\u001b[0m\n",
            "Full Context:\n",
            "\u001b[32;1m\u001b[1;3m[{'p': {'birthPlace': 'Delhi', 'occupation': 'Indian cricketer', 'born': '5 November 1988', 'former_captain': 'India national cricket team', 'id': 'Virat Kohli'}}]\u001b[0m\n",
            "\n",
            "\u001b[1m> Finished chain.\u001b[0m\n",
            "{'query': 'Who Is Virat Khli', 'result': 'Virat Kohli is an Indian cricketer born in Delhi on 5 November 1988. He is a former captain of the India national cricket team.  \\n'}\n",
            "Virat Kohli is an Indian cricketer born in Delhi on 5 November 1988. He is a former captain of the India national cricket team. \n",
            "\n"
          ]
        }
      ]
    }
  ]
}